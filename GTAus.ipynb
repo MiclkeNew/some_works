{
 "cells": [
  {
   "cell_type": "code",
   "execution_count": 60,
   "id": "5bbaf907",
   "metadata": {},
   "outputs": [
    {
     "name": "stdout",
     "output_type": "stream",
     "text": [
      "3\n",
      "1 0 0 3\n",
      "0 1 0 4\n",
      "0 0 4 8\n",
      "x1=3.0  x2=4.0  x3=2.0  "
     ]
    }
   ],
   "source": [
    "\n",
    "n = int(input())\n",
    "import numpy as np\n",
    "A = np.zeros((n, n+1))\n",
    "\n",
    "for i in range(n):\n",
    "  A[i] = input().split()\n",
    "for i in range(n):\n",
    "  for j in range(n+1):\n",
    "    A[i][j] = float(A[i][j])\n",
    "\n",
    "for i in range(n):\n",
    "  for x in range(i, n+1):\n",
    "    for y in range(i+1, n):\n",
    "      if A[i][i] != 0:\n",
    "        A[y]= A[y]-A[i]*float(A[y][i])/float(A[i][i])\n",
    "      else:\n",
    "        u=i\n",
    "        while A[i][i] != 0 or u > n+1:\n",
    "         A[i] += A[u] \n",
    "        if A[i][i] != 0:\n",
    "          A[y]= A[y]-A[i]*float(A[y][i])/float(A[i][i])\n",
    "for i in range(n):\n",
    "  if A[i][i] != 0:\n",
    "    A[i] /= A[i][i]\n",
    "\n",
    "\n",
    "for i in range(n):\n",
    "  for j in range(i):\n",
    "    if A[i][i] !=0:\n",
    "      A[j]= A[j] - A[i]*float(A[j][i])/float(A[i][i])\n",
    "for i in range(n):\n",
    "    print(\"x\" + str(i+1) + \"=\" + str(A[i][n]), end= \"  \")"
   ]
  },
  {
   "cell_type": "markdown",
   "id": "bef9204e",
   "metadata": {},
   "source": [
    "##### "
   ]
  },
  {
   "cell_type": "code",
   "execution_count": null,
   "id": "51af71ce",
   "metadata": {},
   "outputs": [],
   "source": []
  }
 ],
 "metadata": {
  "kernelspec": {
   "display_name": "Python 3 (ipykernel)",
   "language": "python",
   "name": "python3"
  },
  "language_info": {
   "codemirror_mode": {
    "name": "ipython",
    "version": 3
   },
   "file_extension": ".py",
   "mimetype": "text/x-python",
   "name": "python",
   "nbconvert_exporter": "python",
   "pygments_lexer": "ipython3",
   "version": "3.9.12"
  }
 },
 "nbformat": 4,
 "nbformat_minor": 5
}
