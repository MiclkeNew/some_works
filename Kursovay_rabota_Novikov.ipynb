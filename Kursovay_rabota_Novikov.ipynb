{
 "cells": [
  {
   "cell_type": "markdown",
   "id": "349e1086",
   "metadata": {},
   "source": [
    "# Курсовая работа #"
   ]
  },
  {
   "cell_type": "markdown",
   "id": "33209b0f",
   "metadata": {},
   "source": [
    "## Часть 1. Метод неопределенных коэффициэнтов"
   ]
  },
  {
   "cell_type": "markdown",
   "id": "8d90136d",
   "metadata": {},
   "source": [
    "Импортирую данные из exel, используя библиотеку pandas.Затем выведу массив."
   ]
  },
  {
   "cell_type": "code",
   "execution_count": 10,
   "id": "b6da677c",
   "metadata": {
    "scrolled": false
   },
   "outputs": [
    {
     "name": "stdout",
     "output_type": "stream",
     "text": [
      "x:  [0, 9, 10, 20, 21, 30, 41, 50, 60, 75, 79, 100, 118, 125, 150, 158, 200, 234, 250, 300, 310, 400, 491, 500, 600, 700, 766]\n",
      "y:  [13.7, 13.67, 13.67, 13.67, 13.67, 13.6, 13.51, 13.48, 13.47, 13.43, 13.42, 13.5, 13.56, 13.27, 12.03, 11.56, 9.83, 8.79, 8.53, 8.0, 7.95, 6.99, 6.13, 6.08, 5.52, 4.95, 4.58]\n"
     ]
    }
   ],
   "source": [
    "import pandas as pd\n",
    "data = pd.read_excel('https://github.com/MiclkeNew/some_works/blob/main/210_1.xlsx',engine='openpyxl', sheet_name = 'Новиков')\n",
    "x = data.iloc[:,0].tolist()\n",
    "y = data.iloc[:,1].tolist()\n",
    "print('x: ',x)\n",
    "print('y: ',y)"
   ]
  },
  {
   "cell_type": "markdown",
   "id": "7084b3b0",
   "metadata": {},
   "source": [
    "Найду интеполяционную функцию вида y = ax + b"
   ]
  },
  {
   "cell_type": "code",
   "execution_count": 3,
   "id": "9f4b820b",
   "metadata": {},
   "outputs": [
    {
     "name": "stdout",
     "output_type": "stream",
     "text": [
      "-0.014409115850865096 13.85517202175796\n"
     ]
    }
   ],
   "source": [
    "import numpy as np\n",
    "def MNK(x, y):\n",
    "    a1 = np.sum(np.multiply(x, x))\n",
    "    a2 = np.sum(x)\n",
    "    a3 = np.sum(np.multiply(x, y))\n",
    "    b1 = a2\n",
    "    b2 = len(x)\n",
    "    b3 = np.sum(y)\n",
    "    A = np.array([[a1, a2], [b1, b2]])\n",
    "    B = np.array([[a3],[b3]])\n",
    "    Sol = np.linalg.solve(A, B)\n",
    "    Sol0 = Sol[0,0]\n",
    "    Sol1 = Sol[1,0]\n",
    "    return (Sol0, Sol1)\n",
    "a, b = MNK(x, y)\n",
    "print(a,b)"
   ]
  },
  {
   "cell_type": "markdown",
   "id": "4d6c52b4",
   "metadata": {},
   "source": [
    "Строим график полученной функции и отмечаем иходные точки"
   ]
  },
  {
   "cell_type": "code",
   "execution_count": 4,
   "id": "5e545e2f",
   "metadata": {
    "scrolled": false
   },
   "outputs": [
    {
     "data": {
      "image/png": "[encoded data removed]",
      "text/plain": [
       "<Figure size 432x288 with 1 Axes>"
      ]
     },
     "metadata": {
      "needs_background": "light"
     },
     "output_type": "display_data"
    }
   ],
   "source": [
    "import matplotlib.pyplot as plt\n",
    "fig = plt.figure()\n",
    "ax = fig.add_subplot(111)\n",
    "ax.set_xlim([0, 800])\n",
    "ax.set_ylim([4, 14])\n",
    "c = np.arange(0, 766)\n",
    "plt.scatter(x, y)\n",
    "plt.plot(a*c+b)\n",
    "plt.xlabel(r'$x$')\n",
    "plt.ylabel(r'$y$')\n",
    "plt.grid(True)\n",
    "plt.show()"
   ]
  },
  {
   "cell_type": "markdown",
   "id": "0da842ab",
   "metadata": {},
   "source": [
    "## Часть 2. Интерполяционный многочлен Лагранжа"
   ]
  },
  {
   "cell_type": "markdown",
   "id": "0e3e50c1",
   "metadata": {},
   "source": [
    "Импортирую данные из exel"
   ]
  },
  {
   "cell_type": "code",
   "execution_count": 5,
   "id": "c442a636",
   "metadata": {
    "scrolled": true
   },
   "outputs": [
    {
     "name": "stdout",
     "output_type": "stream",
     "text": [
      "x:  [233.0, 232.5, 232.8, 234.1, 234.0, 233.0, 231.0, 228.5, 220.1, 218.6, 211.2, 204.5, 198.2, 178.3, 176.7, 173.6, 166.8, 158.9, 155.7, 139.6, 135.4, 122.4, 114.0, 113.9, 107.8, 101.5, 95.4]\n",
      "y:  [0, 8, 10, 19, 20, 39, 50, 58, 75, 78, 101, 118, 126, 151, 153, 201, 252, 287, 302, 376, 403, 504, 603, 605, 706, 807, 904]\n"
     ]
    }
   ],
   "source": [
    "import pandas as pd\n",
    "df = pd.read_excel('https://github.com/MiclkeNew/some_works/blob/main/210_1.xlsx',engine='openpyxl', sheet_name = 'Lagrange')\n",
    "df = df.dropna()\n",
    "x = df.iloc[:,0].tolist()\n",
    "y = df.iloc[:,1].tolist()\n",
    "print('x: ', x)\n",
    "print('y: ', y)"
   ]
  },
  {
   "cell_type": "markdown",
   "id": "b6763f02",
   "metadata": {},
   "source": [
    "Строю многочлен Лагранжа"
   ]
  },
  {
   "cell_type": "code",
   "execution_count": 6,
   "id": "5826a9b3",
   "metadata": {
    "scrolled": true
   },
   "outputs": [],
   "source": [
    "def create_basic_polynomial(x, i):\n",
    "    def basic_polynomial(X):\n",
    "        divider = 1\n",
    "        result = 1\n",
    "        for j in range(len(x)):\n",
    "            if j != i:\n",
    "                result *= (X-x[j])\n",
    "                divider *= (x[i]-x[j])\n",
    "            if divider == 0:\n",
    "                divider = 1\n",
    "        return result/divider\n",
    "    return basic_polynomial\n",
    "\n",
    "def create_Lagrange_polynomial(x, y):\n",
    "    basic_polynomials = []\n",
    "    for i in range(len(x)):\n",
    "        basic_polynomials.append(create_basic_polynomial(x, i))\n",
    "\n",
    "    def lagrange_polynomial(X):\n",
    "        result = 0\n",
    "        for i in range(len(y)):\n",
    "            result += y[i]*basic_polynomials[i](X)\n",
    "        return result\n",
    "    return lagrange_polynomial\n",
    "lag_pol = create_Lagrange_polynomial(x, y)"
   ]
  },
  {
   "cell_type": "markdown",
   "id": "09d49446",
   "metadata": {},
   "source": [
    "С помощью библиотеки matplotlib изобразим."
   ]
  },
  {
   "cell_type": "code",
   "execution_count": 7,
   "id": "c4028263",
   "metadata": {},
   "outputs": [
    {
     "data": {
      "image/png": "[encoded data removed]",
      "text/plain": [
       "<Figure size 432x288 with 1 Axes>"
      ]
     },
     "metadata": {
      "needs_background": "light"
     },
     "output_type": "display_data"
    }
   ],
   "source": [
    "\n",
    "\n",
    "import numpy as np\n",
    "import matplotlib.pyplot as plt\n",
    "fig = plt.figure()\n",
    "ax = fig.add_subplot(111)\n",
    "ax.set_xlim([90, 250])\n",
    "ax.set_ylim([0, 950])\n",
    "plt.scatter(x, y) \n",
    "c = np.arange(0, 260, 1)\n",
    "plt.plot(lag_pol(c))\n",
    "plt.xlabel(r'$x$')\n",
    "plt.ylabel(r'$y$')\n",
    "plt.grid(True)\n",
    "plt.show()"
   ]
  },
  {
   "cell_type": "markdown",
   "id": "eb2c8a16",
   "metadata": {},
   "source": [
    "## Вывод"
   ]
  },
  {
   "cell_type": "markdown",
   "id": "460d6825",
   "metadata": {},
   "source": [
    "С помощью различных библиотек python можно решать различные задачи. В этой работе я задействовал библиотеки matplotlib.pyplot, pandas и numpy, для построения функций"
   ]
  }
 ],
 "metadata": {
  "kernelspec": {
   "display_name": "Python 3 (ipykernel)",
   "language": "python",
   "name": "python3"
  },
  "language_info": {
   "codemirror_mode": {
    "name": "ipython",
    "version": 3
   },
   "file_extension": ".py",
   "mimetype": "text/x-python",
   "name": "python",
   "nbconvert_exporter": "python",
   "pygments_lexer": "ipython3",
   "version": "3.9.7"
  }
 },
 "nbformat": 4,
 "nbformat_minor": 5
}
