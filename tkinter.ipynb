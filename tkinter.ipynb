{
 "cells": [
  {
   "cell_type": "markdown",
   "metadata": {},
   "source": [
    "# Создание приложений с пользовательским интерфйсом"
   ]
  },
  {
   "attachments": {},
   "cell_type": "markdown",
   "metadata": {},
   "source": [
    "Разработка консольных приложений - дело полезное. Полезно оно для пакетной обработки данных, полезно для интеграции в другие системы. Но оно теряет в наглядности - мы все же привыкли к приложениям в виде окошек на экране с элементами управления.\n",
    "Давайте внимательно вcмотримся в типичное приложение, например в \"Калькулятор\", входящий в состав Windows.\n",
    "\n",
    "Что у нас есть в приложении с точки зрения взаимодействия с пользователем?\n",
    "* Окно приложения\n",
    "* У окна есть заголовок\n",
    "* Кнопки управления окном в этом заголовке\n",
    "* Текст в заголовке окна\n",
    "* Кнопки - элементы, реагирующие на нажатия мышки\n",
    "* Надписи на этих кнопках\n",
    "* Поле ввода и вывода текстовой информации - значения введенного выражения.\n",
    "\n",
    "По большому счету, у нас есть набор стандартных элементов управления и взаимодействия с пользователем, которые присутствуют почти во всех программах. Правильно организованый порядок обработки изменений этих элементов даст нам приложение, обладающее оконным пользовательским интерфейсом. То есть, нам нужен \"кирпичик\" - способ создавать и управлять этими элементами (виджетами) в коде Python.\n",
    "\n",
    "Пакетов для управления пользовательским интерфейсом много: Tkinter, PyQT, PyGlide, wxWidgets. Остановимся на первом из них как на самом простом и выразительном, хотя им жизнь не ограничивается.\n",
    "\n",
    "Убедимся в том, что пакет tk  установлен в системе (в нашем случае найдем этот пакет в списке установленных в conda navigator). Рассмотрим следующий код: \n"
   ]
  },
  {
   "cell_type": "code",
   "execution_count": 3,
   "metadata": {},
   "outputs": [],
   "source": [
    "from tkinter import *\n",
    "\n",
    "main_window = Tk()\n",
    "\n",
    "main_window.mainloop()"
   ]
  },
  {
   "attachments": {},
   "cell_type": "markdown",
   "metadata": {},
   "source": [
    "Этот код импортирует в нашу программу функции пакета tkinter и создаст main_window - переменную-объект, описывающую главное окно нашего приложения. Мы можем управлять этим окном, изменяя его свойства.\n",
    "Третья строка заставит наше окно существовать и обрабатывать изменения до его закрытия.\n",
    "\n",
    "Поменяем текст-заголовок окна, изменив свойство title  у объекта main_window. Заодно поменяем геометрические свойства окна, задав размер окошка."
   ]
  },
  {
   "cell_type": "code",
   "execution_count": 4,
   "metadata": {},
   "outputs": [],
   "source": [
    "from tkinter import *\n",
    "\n",
    "main_window = Tk()\n",
    "main_window.title(\"This is my first application\")\n",
    "main_window.geometry(\"300x300\")\n",
    "main_window.mainloop()"
   ]
  },
  {
   "attachments": {},
   "cell_type": "markdown",
   "metadata": {},
   "source": [
    "Мы получили окошко, в заголовке которого уже есть какой-то текст. Но текста недостаточно для осмысленных действий, мы хотим добавить на окно виджеты с вводом и выводом информации."
   ]
  },
  {
   "attachments": {},
   "cell_type": "markdown",
   "metadata": {},
   "source": [
    "Виджет Canvas  представляет собой \"холст\" для рисования - область, на которой мы можем отображать графические примитивы. Мы можем определить на поверхности окна область для вывода графических элементов, определяемых нами.\n",
    "В этой области мы можем рисовать, например, красные прямоугольники, зеленые овалы и синие линии. Желание необычное, но реализовать надо..."
   ]
  },
  {
   "cell_type": "code",
   "execution_count": 5,
   "metadata": {},
   "outputs": [],
   "source": [
    "from tkinter import *\n",
    "\n",
    "main_window = Tk()\n",
    "main_window.title('This is my first application')\n",
    "main_window.geometry('300x300')\n",
    "\n",
    "my_canvas = Canvas(main_window, width=300, height=200, bg='white') # мы привяжем созданный Canvas к главному окну!\n",
    "\n",
    "r1 = my_canvas.create_rectangle(20,30,200,120,\n",
    "                                width=0,fill='red')\n",
    "r2 = my_canvas.create_rectangle(120,70,230,140,\n",
    "                                outline='black',fill='red',\n",
    "                                stipple='gray75')\n",
    "r3 = my_canvas.create_rectangle(50,10,170,160,\n",
    "                                width=5,outline='red',fill='')\n",
    "\n",
    "o1 = my_canvas.create_oval(20,30,200,120,\n",
    "                                width=0,fill='green')\n",
    "\n",
    "l1 = my_canvas.create_line( 100, 100, 100, 0, 200, 50, 300, 0, 300, 100, fill='blue', width=4)\n",
    "my_canvas.grid()\n",
    "main_window.mainloop()"
   ]
  },
  {
   "attachments": {},
   "cell_type": "markdown",
   "metadata": {},
   "source": [
    "Заметим, что полученные объекты отрисовываются в порядке описания - сверху рисуется последний.\n",
    "\n",
    "Кроме рисования Canvas()  хочется как-то влиять на происходящее в окне, нажимая на кнопки и вводя информацию в специальные поля ввода. Давайте попробуем и эти виджеты освоить.\n"
   ]
  },
  {
   "cell_type": "code",
   "execution_count": 27,
   "metadata": {},
   "outputs": [],
   "source": [
    "from tkinter import *\n",
    "from tkinter import messagebox\n",
    "\n",
    "def my_action():\n",
    "        # специальная функция - отрисовка диалогового окна\n",
    "        # заголовок - первый параметр, сообщение - второй параметр\n",
    "        messagebox.showinfo(e1.get(), e2.get())\n",
    "\n",
    "\n",
    "# а теперь за главное окно будет отвечать переменная master\n",
    "master = Tk()\n",
    "master.title('Говори пароль!')\n",
    "# виджет Label - просто надпись\n",
    "l1 = Label(master, text='Login')\n",
    "l1.grid(row=0)\n",
    "l2 = Label(master, text='Password')\n",
    "l2.grid(row=1)\n",
    "\n",
    "# виджет Entry - поле ввода текстовой информации\n",
    "e1 = Entry(master)\n",
    "e2 = Entry(master)\n",
    "e1.grid(row=0, column=1)\n",
    "e2.grid(row=1, column=1)\n",
    "\n",
    "# виджет Button() - кнопка с текстом, нажатие на которую вызывает \n",
    "# выполнение команды-функции, переданной в параметрах. Сама функция\n",
    "# описана 19 строками выше\n",
    "b1 = Button(master, text=\"Print\", command = my_action)\n",
    "b1.grid(row=4, column = 1)\n",
    "\n",
    "master.mainloop()"
   ]
  },
  {
   "attachments": {},
   "cell_type": "markdown",
   "metadata": {},
   "source": [
    "На примере выше мы разместили 5 виджетов на экране. Мы разместили их в задуманных местах, используя виртуальную сетку - таблицу, которая каждому виждету назначила позицию в виде строки-столбца в этой сетке. Параметр grid() - он про это."
   ]
  },
  {
   "attachments": {},
   "cell_type": "markdown",
   "metadata": {},
   "source": [
    "Наконец, попытаемся что-то более осмысленное сделать. Запустите программу ниже с параметрами 10, 100 или 20, 500 или на ваш вкус."
   ]
  },
  {
   "cell_type": "code",
   "execution_count": 11,
   "metadata": {},
   "outputs": [],
   "source": [
    "from tkinter import *\n",
    "from tkinter import messagebox\n",
    "from math import *\n",
    "\n",
    "\n",
    "# специальная функция - отрисовка канваса по параметрам\n",
    "def my_action():\n",
    "    \n",
    "    frm = int(e1.get())\n",
    "    to   = int(e2.get())\n",
    "    for i in range( frm, to):\n",
    "        canvas.create_line(i,10*sin(i)+150, i+1, 10*sin(i)+150, fill='red', width=10)\n",
    "\n",
    "        \n",
    "# а теперь за главное окно будет отвечать переменная master\n",
    "master = Tk()\n",
    "master.title('Рисуем')\n",
    "\n",
    "canvas = Canvas(master, width=800, height=400, background='black')\n",
    "canvas.grid(column=0, row=1)\n",
    "\n",
    "\n",
    "# виджет Label - просто надпись\n",
    "l1 = Label(master, text='t0')\n",
    "l1.grid(row=2, column=0, sticky='e')\n",
    "l2 = Label(master, text='t1')\n",
    "l2.grid(row=3, column=0, sticky='e')\n",
    "\n",
    "# виджет Entry - поле ввода текстовой информации. \n",
    "e1 = Entry(master)\n",
    "e2 = Entry(master)\n",
    "e1.grid(row=2, column=1)\n",
    "e2.grid(row=3, column=1)\n",
    "\n",
    "\n",
    "# виджет Button() - кнопка с текстом, нажатие на которую вызывает \n",
    "# выполнение команды-функции, переданной в параметрах. Сама функция\n",
    "# описана 19 строками выше\n",
    "b1 = Button(master, text=\"Draw!\", command = my_action)\n",
    "b1.grid(row=4, column = 1)\n",
    "\n",
    "master.mainloop()"
   ]
  },
  {
   "attachments": {},
   "cell_type": "markdown",
   "metadata": {},
   "source": [
    "Виджетов много. Они разные. Я постарался показать способы работы с ними. Много документации на разные виджеты можно почерпнуть, например, здесь:\n",
    "- https://www.geeksforgeeks.org/python-gui-tkinter/\n",
    "- https://www.geeksforgeeks.org/python-tkinter-tutorial/\n",
    "- https://likegeeks.com/python-gui-examples-tkinter-tutorial/\n",
    "\n",
    "\n",
    "В качестве самостоятельного ДЗ: добавьте radiobutton  с возможностью выбора цвета синусоиды. Результаты хочу увидеть  на github\n"
   ]
  }
 ],
 "metadata": {
  "kernelspec": {
   "display_name": "base",
   "language": "python",
   "name": "python3"
  },
  "language_info": {
   "codemirror_mode": {
    "name": "ipython",
    "version": 3
   },
   "file_extension": ".py",
   "mimetype": "text/x-python",
   "name": "python",
   "nbconvert_exporter": "python",
   "pygments_lexer": "ipython3",
   "version": "3.9.13"
  },
  "orig_nbformat": 4,
  "vscode": {
   "interpreter": {
    "hash": "f08154012ddadd8e950e6e9e035c7a7b32c136e7647e9b7c77e02eb723a8bedb"
   }
  }
 },
 "nbformat": 4,
 "nbformat_minor": 2
}
